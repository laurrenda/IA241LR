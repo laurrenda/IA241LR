{
 "cells": [
  {
   "cell_type": "markdown",
   "id": "searching-shadow",
   "metadata": {},
   "source": [
    "# Visualize Covid19 Data in Python"
   ]
  },
  {
   "cell_type": "markdown",
   "id": "delayed-circular",
   "metadata": {},
   "source": [
    "## data source"
   ]
  },
  {
   "cell_type": "markdown",
   "id": "stainless-gibraltar",
   "metadata": {},
   "source": [
    "This data is from [European Centre for Disease Prevention and Control](https://www.ecdc.europa.eu/en/publications-data/download-todays-data-geographic-distribution-covid-19-cases-worldwide)"
   ]
  },
  {
   "cell_type": "markdown",
   "id": "initial-topic",
   "metadata": {},
   "source": [
    "![covid image](https://www.jmu.edu/_images/news/2020/Covid-19Dashboard-06.png)"
   ]
  },
  {
   "cell_type": "code",
   "execution_count": null,
   "id": "valuable-letters",
   "metadata": {},
   "outputs": [],
   "source": [
    "%matplotlib inline\n",
    "import pandas"
   ]
  },
  {
   "cell_type": "markdown",
   "id": "coordinate-participation",
   "metadata": {},
   "source": [
    "## a quick view of the data"
   ]
  },
  {
   "cell_type": "code",
   "execution_count": null,
   "id": "confidential-hands",
   "metadata": {},
   "outputs": [],
   "source": [
    "df = pandas.read_excel('S3://renda-ia241-2021spring/COVID-19-geographic-disbtribution-worldwide-2020-12-14.xls')\n",
    "df[:10]"
   ]
  },
  {
   "cell_type": "code",
   "execution_count": null,
   "id": "potential-bruce",
   "metadata": {},
   "outputs": [],
   "source": []
  }
 ],
 "metadata": {
  "kernelspec": {
   "display_name": "conda_python3",
   "language": "python",
   "name": "conda_python3"
  },
  "language_info": {
   "codemirror_mode": {
    "name": "ipython",
    "version": 3
   },
   "file_extension": ".py",
   "mimetype": "text/x-python",
   "name": "python",
   "nbconvert_exporter": "python",
   "pygments_lexer": "ipython3",
   "version": "3.6.13"
  }
 },
 "nbformat": 4,
 "nbformat_minor": 5
}
