{
 "cells": [
  {
   "cell_type": "markdown",
   "id": "right-hampton",
   "metadata": {},
   "source": [
    "# COVID-19 Data in Italy as of December 2020"
   ]
  },
  {
   "cell_type": "markdown",
   "id": "northern-report",
   "metadata": {},
   "source": [
    "## Data Source"
   ]
  },
  {
   "cell_type": "markdown",
   "id": "moved-elements",
   "metadata": {},
   "source": [
    "This data is from [European Centre for Disease Prevention and Control](https://www.ecdc.europa.eu/en/publications-data/download-todays-data-geographic-distribution-covid-19-cases-worldwide)"
   ]
  },
  {
   "cell_type": "code",
   "execution_count": 19,
   "id": "departmental-swift",
   "metadata": {},
   "outputs": [],
   "source": [
    "%matplotlib inline\n",
    "import pandas"
   ]
  },
  {
   "cell_type": "markdown",
   "id": "operational-organ",
   "metadata": {},
   "source": [
    "## Import Data from S3"
   ]
  },
  {
   "cell_type": "code",
   "execution_count": 26,
   "id": "common-guatemala",
   "metadata": {},
   "outputs": [],
   "source": [
    "df = pandas.read_excel('s3://renda-ia241-2021spring/COVID-19-geographic-disbtribution-worldwide-2020-12-14 (1).xls')"
   ]
  },
  {
   "cell_type": "markdown",
   "id": "unusual-distance",
   "metadata": {},
   "source": [
    "## Select the Italy Data"
   ]
  },
  {
   "cell_type": "code",
   "execution_count": 27,
   "id": "funky-probability",
   "metadata": {},
   "outputs": [
    {
     "data": {
      "text/html": [
       "<div>\n",
       "<style scoped>\n",
       "    .dataframe tbody tr th:only-of-type {\n",
       "        vertical-align: middle;\n",
       "    }\n",
       "\n",
       "    .dataframe tbody tr th {\n",
       "        vertical-align: top;\n",
       "    }\n",
       "\n",
       "    .dataframe thead th {\n",
       "        text-align: right;\n",
       "    }\n",
       "</style>\n",
       "<table border=\"1\" class=\"dataframe\">\n",
       "  <thead>\n",
       "    <tr style=\"text-align: right;\">\n",
       "      <th></th>\n",
       "      <th>dateRep</th>\n",
       "      <th>day</th>\n",
       "      <th>month</th>\n",
       "      <th>year</th>\n",
       "      <th>cases</th>\n",
       "      <th>deaths</th>\n",
       "      <th>countriesAndTerritories</th>\n",
       "      <th>geold</th>\n",
       "      <th>Unnamed: 8</th>\n",
       "      <th>Unnamed: 9</th>\n",
       "      <th>Unnamed: 10</th>\n",
       "      <th>Unnamed: 11</th>\n",
       "    </tr>\n",
       "  </thead>\n",
       "  <tbody>\n",
       "    <tr>\n",
       "      <th>28223</th>\n",
       "      <td>2020-12-14</td>\n",
       "      <td>14.0</td>\n",
       "      <td>12.0</td>\n",
       "      <td>2020.0</td>\n",
       "      <td>17937.0</td>\n",
       "      <td>484.0</td>\n",
       "      <td>Italy</td>\n",
       "      <td>IT</td>\n",
       "      <td>ITA</td>\n",
       "      <td>60359546.0</td>\n",
       "      <td>Europe</td>\n",
       "      <td>428.323301</td>\n",
       "    </tr>\n",
       "    <tr>\n",
       "      <th>28224</th>\n",
       "      <td>2020-12-13</td>\n",
       "      <td>13.0</td>\n",
       "      <td>12.0</td>\n",
       "      <td>2020.0</td>\n",
       "      <td>19902.0</td>\n",
       "      <td>649.0</td>\n",
       "      <td>Italy</td>\n",
       "      <td>IT</td>\n",
       "      <td>ITA</td>\n",
       "      <td>60359546.0</td>\n",
       "      <td>Europe</td>\n",
       "      <td>432.811406</td>\n",
       "    </tr>\n",
       "    <tr>\n",
       "      <th>28225</th>\n",
       "      <td>2020-12-12</td>\n",
       "      <td>12.0</td>\n",
       "      <td>12.0</td>\n",
       "      <td>2020.0</td>\n",
       "      <td>18726.0</td>\n",
       "      <td>761.0</td>\n",
       "      <td>Italy</td>\n",
       "      <td>IT</td>\n",
       "      <td>ITA</td>\n",
       "      <td>60359546.0</td>\n",
       "      <td>Europe</td>\n",
       "      <td>443.436072</td>\n",
       "    </tr>\n",
       "    <tr>\n",
       "      <th>28226</th>\n",
       "      <td>2020-12-11</td>\n",
       "      <td>11.0</td>\n",
       "      <td>12.0</td>\n",
       "      <td>2020.0</td>\n",
       "      <td>16998.0</td>\n",
       "      <td>887.0</td>\n",
       "      <td>Italy</td>\n",
       "      <td>IT</td>\n",
       "      <td>ITA</td>\n",
       "      <td>60359546.0</td>\n",
       "      <td>Europe</td>\n",
       "      <td>459.367272</td>\n",
       "    </tr>\n",
       "    <tr>\n",
       "      <th>28227</th>\n",
       "      <td>2020-12-10</td>\n",
       "      <td>10.0</td>\n",
       "      <td>12.0</td>\n",
       "      <td>2020.0</td>\n",
       "      <td>12755.0</td>\n",
       "      <td>499.0</td>\n",
       "      <td>Italy</td>\n",
       "      <td>IT</td>\n",
       "      <td>ITA</td>\n",
       "      <td>60359546.0</td>\n",
       "      <td>Europe</td>\n",
       "      <td>479.253108</td>\n",
       "    </tr>\n",
       "    <tr>\n",
       "      <th>28228</th>\n",
       "      <td>2020-12-09</td>\n",
       "      <td>9.0</td>\n",
       "      <td>12.0</td>\n",
       "      <td>2020.0</td>\n",
       "      <td>14837.0</td>\n",
       "      <td>634.0</td>\n",
       "      <td>Italy</td>\n",
       "      <td>IT</td>\n",
       "      <td>ITA</td>\n",
       "      <td>60359546.0</td>\n",
       "      <td>Europe</td>\n",
       "      <td>500.951415</td>\n",
       "    </tr>\n",
       "    <tr>\n",
       "      <th>28229</th>\n",
       "      <td>2020-12-08</td>\n",
       "      <td>8.0</td>\n",
       "      <td>12.0</td>\n",
       "      <td>2020.0</td>\n",
       "      <td>13679.0</td>\n",
       "      <td>528.0</td>\n",
       "      <td>Italy</td>\n",
       "      <td>IT</td>\n",
       "      <td>ITA</td>\n",
       "      <td>60359546.0</td>\n",
       "      <td>Europe</td>\n",
       "      <td>514.851454</td>\n",
       "    </tr>\n",
       "    <tr>\n",
       "      <th>28230</th>\n",
       "      <td>2020-12-07</td>\n",
       "      <td>7.0</td>\n",
       "      <td>12.0</td>\n",
       "      <td>2020.0</td>\n",
       "      <td>18887.0</td>\n",
       "      <td>564.0</td>\n",
       "      <td>Italy</td>\n",
       "      <td>IT</td>\n",
       "      <td>ITA</td>\n",
       "      <td>60359546.0</td>\n",
       "      <td>Europe</td>\n",
       "      <td>530.172974</td>\n",
       "    </tr>\n",
       "    <tr>\n",
       "      <th>28231</th>\n",
       "      <td>2020-12-06</td>\n",
       "      <td>6.0</td>\n",
       "      <td>12.0</td>\n",
       "      <td>2020.0</td>\n",
       "      <td>21052.0</td>\n",
       "      <td>662.0</td>\n",
       "      <td>Italy</td>\n",
       "      <td>IT</td>\n",
       "      <td>ITA</td>\n",
       "      <td>60359546.0</td>\n",
       "      <td>Europe</td>\n",
       "      <td>545.829155</td>\n",
       "    </tr>\n",
       "    <tr>\n",
       "      <th>28232</th>\n",
       "      <td>2020-12-05</td>\n",
       "      <td>5.0</td>\n",
       "      <td>12.0</td>\n",
       "      <td>2020.0</td>\n",
       "      <td>24110.0</td>\n",
       "      <td>814.0</td>\n",
       "      <td>Italy</td>\n",
       "      <td>IT</td>\n",
       "      <td>ITA</td>\n",
       "      <td>60359546.0</td>\n",
       "      <td>Europe</td>\n",
       "      <td>568.546357</td>\n",
       "    </tr>\n",
       "  </tbody>\n",
       "</table>\n",
       "</div>"
      ],
      "text/plain": [
       "         dateRep   day  month    year    cases  deaths  \\\n",
       "28223 2020-12-14  14.0   12.0  2020.0  17937.0   484.0   \n",
       "28224 2020-12-13  13.0   12.0  2020.0  19902.0   649.0   \n",
       "28225 2020-12-12  12.0   12.0  2020.0  18726.0   761.0   \n",
       "28226 2020-12-11  11.0   12.0  2020.0  16998.0   887.0   \n",
       "28227 2020-12-10  10.0   12.0  2020.0  12755.0   499.0   \n",
       "28228 2020-12-09   9.0   12.0  2020.0  14837.0   634.0   \n",
       "28229 2020-12-08   8.0   12.0  2020.0  13679.0   528.0   \n",
       "28230 2020-12-07   7.0   12.0  2020.0  18887.0   564.0   \n",
       "28231 2020-12-06   6.0   12.0  2020.0  21052.0   662.0   \n",
       "28232 2020-12-05   5.0   12.0  2020.0  24110.0   814.0   \n",
       "\n",
       "      countriesAndTerritories geold Unnamed: 8  Unnamed: 9 Unnamed: 10  \\\n",
       "28223                   Italy    IT        ITA  60359546.0      Europe   \n",
       "28224                   Italy    IT        ITA  60359546.0      Europe   \n",
       "28225                   Italy    IT        ITA  60359546.0      Europe   \n",
       "28226                   Italy    IT        ITA  60359546.0      Europe   \n",
       "28227                   Italy    IT        ITA  60359546.0      Europe   \n",
       "28228                   Italy    IT        ITA  60359546.0      Europe   \n",
       "28229                   Italy    IT        ITA  60359546.0      Europe   \n",
       "28230                   Italy    IT        ITA  60359546.0      Europe   \n",
       "28231                   Italy    IT        ITA  60359546.0      Europe   \n",
       "28232                   Italy    IT        ITA  60359546.0      Europe   \n",
       "\n",
       "       Unnamed: 11  \n",
       "28223   428.323301  \n",
       "28224   432.811406  \n",
       "28225   443.436072  \n",
       "28226   459.367272  \n",
       "28227   479.253108  \n",
       "28228   500.951415  \n",
       "28229   514.851454  \n",
       "28230   530.172974  \n",
       "28231   545.829155  \n",
       "28232   568.546357  "
      ]
     },
     "execution_count": 27,
     "metadata": {},
     "output_type": "execute_result"
    }
   ],
   "source": [
    "italy_data = df.loc[df['countriesAndTerritories'] == 'Italy']\n",
    "italy_data[:10]"
   ]
  },
  {
   "cell_type": "markdown",
   "id": "removed-seating",
   "metadata": {},
   "source": [
    "## The Total Number of Confirmed Cases as of December 2020"
   ]
  },
  {
   "cell_type": "code",
   "execution_count": 45,
   "id": "broad-wrestling",
   "metadata": {},
   "outputs": [
    {
     "data": {
      "text/plain": [
       "1843712.0"
      ]
     },
     "execution_count": 45,
     "metadata": {},
     "output_type": "execute_result"
    }
   ],
   "source": [
    "sum_italy_cases = df['cases'].sum()\n",
    "sum_italy_cases\n"
   ]
  },
  {
   "cell_type": "markdown",
   "id": "reported-basement",
   "metadata": {},
   "source": [
    "## Deaths Related to Number of Cases"
   ]
  },
  {
   "cell_type": "code",
   "execution_count": 37,
   "id": "verified-mobile",
   "metadata": {},
   "outputs": [
    {
     "data": {
      "text/plain": [
       "<AxesSubplot:xlabel='cases', ylabel='deaths'>"
      ]
     },
     "execution_count": 37,
     "metadata": {},
     "output_type": "execute_result"
    },
    {
     "data": {
      "image/png": "[encoded data removed]",
      "text/plain": [
       "<Figure size 432x288 with 1 Axes>"
      ]
     },
     "metadata": {
      "needs_background": "light"
     },
     "output_type": "display_data"
    }
   ],
   "source": [
    "italy_data.plot.scatter(x='cases',y='deaths')"
   ]
  },
  {
   "cell_type": "markdown",
   "id": "economic-digest",
   "metadata": {},
   "source": [
    "## Month With the Highest Number of Cases"
   ]
  },
  {
   "cell_type": "code",
   "execution_count": 47,
   "id": "nonprofit-latex",
   "metadata": {},
   "outputs": [
    {
     "data": {
      "text/plain": [
       "11.0"
      ]
     },
     "execution_count": 47,
     "metadata": {},
     "output_type": "execute_result"
    },
    {
     "data": {
      "image/png": "[encoded data removed]",
      "text/plain": [
       "<Figure size 432x288 with 1 Axes>"
      ]
     },
     "metadata": {
      "needs_background": "light"
     },
     "output_type": "display_data"
    }
   ],
   "source": [
    "month_italy_cases = df.groupby('month').sum()['cases']\n",
    "month_italy_cases.plot.bar()\n",
    "month_italy_cases.idxmax()"
   ]
  },
  {
   "cell_type": "code",
   "execution_count": null,
   "id": "powerful-biotechnology",
   "metadata": {},
   "outputs": [],
   "source": []
  }
 ],
 "metadata": {
  "kernelspec": {
   "display_name": "conda_python3",
   "language": "python",
   "name": "conda_python3"
  },
  "language_info": {
   "codemirror_mode": {
    "name": "ipython",
    "version": 3
   },
   "file_extension": ".py",
   "mimetype": "text/x-python",
   "name": "python",
   "nbconvert_exporter": "python",
   "pygments_lexer": "ipython3",
   "version": "3.6.13"
  }
 },
 "nbformat": 4,
 "nbformat_minor": 5
}
